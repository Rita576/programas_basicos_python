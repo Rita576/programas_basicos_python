{
  "nbformat": 4,
  "nbformat_minor": 0,
  "metadata": {
    "colab": {
      "name": "Numpy 04 valores duplicados.ipynb",
      "provenance": []
    },
    "kernelspec": {
      "name": "python3",
      "display_name": "Python 3"
    }
  },
  "cells": [
    {
      "cell_type": "code",
      "metadata": {
        "id": "ljds7m5773Pp",
        "colab": {
          "base_uri": "https://localhost:8080/",
          "height": 51
        },
        "outputId": "d480d822-6f22-4d4c-930a-fe0f8c01f162"
      },
      "source": [
        "import numpy as np\n",
        "\n",
        "arr = [1, 1, 2, 2, 2, 3, 3, 3, 3, 4, 4, 4, 5, 5, 5, 5, 5, 5, 10, 11]\n",
        "counter = 0\n",
        "print (arr)\n",
        "while counter < len(arr):\n",
        "    #verificando se sao repetidos\n",
        "    i = (arr[counter] == arr[counter - 1])\n",
        "    if i:\n",
        "      #se forem repetidos ele deleta os valores e deixa apenas um\n",
        "        arr = np.delete(arr, counter)\n",
        "    else:\n",
        "        # Passa para o proximo elemento\n",
        "        counter += 1\n",
        "print(arr)\n"
      ],
      "execution_count": null,
      "outputs": [
        {
          "output_type": "stream",
          "text": [
            "[1, 1, 2, 2, 2, 3, 3, 3, 3, 4, 4, 4, 5, 5, 5, 5, 5, 5, 10, 11]\n",
            "[ 1  2  3  4  5 10 11]\n"
          ],
          "name": "stdout"
        }
      ]
    }
  ]
}