{
  "nbformat": 4,
  "nbformat_minor": 0,
  "metadata": {
    "colab": {
      "name": "Numpy 01 Variando de 15 a 55.ipynb",
      "provenance": []
    },
    "kernelspec": {
      "name": "python3",
      "display_name": "Python 3"
    }
  },
  "cells": [
    {
      "cell_type": "code",
      "metadata": {
        "id": "MwTS1pFvldZF",
        "colab": {
          "base_uri": "https://localhost:8080/",
          "height": 51
        },
        "outputId": "6beb6655-60b8-4938-b026-62d73ea5f6b1"
      },
      "source": [
        "import numpy as np\n",
        "\n",
        "arr = np.random.randint(15, 55, 10)\n",
        "print(arr)\n",
        "print(arr[1:-1])\n"
      ],
      "execution_count": null,
      "outputs": [
        {
          "output_type": "stream",
          "text": [
            "[31 41 38 25 35 41 30 23 51 18]\n",
            "[41 38 25 35 41 30 23 51]\n"
          ],
          "name": "stdout"
        }
      ]
    }
  ]
}