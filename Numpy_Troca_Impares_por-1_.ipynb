{
  "nbformat": 4,
  "nbformat_minor": 0,
  "metadata": {
    "colab": {
      "name": "Numpy 05 Impares .ipynb",
      "provenance": []
    },
    "kernelspec": {
      "name": "python3",
      "display_name": "Python 3"
    }
  },
  "cells": [
    {
      "cell_type": "code",
      "metadata": {
        "id": "RbcDNQ9UD6Qg",
        "colab": {
          "base_uri": "https://localhost:8080/"
        },
        "outputId": "5fa66105-24c7-4a95-eb52-a8069ba6b422"
      },
      "source": [
        "import numpy as np\n",
        "\n",
        "arr = np.arange(10)\n",
        "num = arr[:]\n",
        "for i in num:\n",
        "  if i % 2 == 0:\n",
        "    num = i\n",
        "  else:\n",
        "    num = -1\n",
        "    # A num que foi uma copia onde mostra os impares com -1\n",
        "  print (num)\n",
        "    # A Arr que nao foi alterada\n",
        "print(arr)\n",
        "\n"
      ],
      "execution_count": null,
      "outputs": [
        {
          "output_type": "stream",
          "text": [
            "0\n",
            "-1\n",
            "2\n",
            "-1\n",
            "4\n",
            "-1\n",
            "6\n",
            "-1\n",
            "8\n",
            "-1\n",
            "[0 1 2 3 4 5 6 7 8 9]\n"
          ],
          "name": "stdout"
        }
      ]
    }
  ]
}