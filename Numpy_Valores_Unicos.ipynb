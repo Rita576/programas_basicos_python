{
  "nbformat": 4,
  "nbformat_minor": 0,
  "metadata": {
    "colab": {
      "name": "Numpy 06  Valores Unicos.ipynb",
      "provenance": [],
      "collapsed_sections": []
    },
    "kernelspec": {
      "name": "python3",
      "display_name": "Python 3"
    }
  },
  "cells": [
    {
      "cell_type": "code",
      "metadata": {
        "id": "Fensv0Fldn9U",
        "colab": {
          "base_uri": "https://localhost:8080/",
          "height": 221
        },
        "outputId": "3e13cad1-7207-4ada-d067-00ff2b06e2f8"
      },
      "source": [
        "import numpy as np\n",
        "np.random.seed(100)\n",
        "arr = np.random.randint(1,11,size=(6, 10))\n",
        "print(arr)\n",
        "\n",
        "for i in arr:\n",
        " uniques = np.unique(arr[0])\n",
        " uniques1 = np.unique(arr[1])\n",
        " uniques2 = np.unique(arr[2])\n",
        " uniques3 = np.unique(arr[3])\n",
        " uniques4 = np.unique(arr[4])\n",
        " uniques5 = np.unique(arr[5])\n",
        "#valores unicos\n",
        "print('Linha 1: ',len(uniques))\n",
        "print('Linha 2: ',len(uniques1))\n",
        "print('Linha 3: ',len(uniques2))\n",
        "print('Linha 4: ',len(uniques3))\n",
        "print('Linha 5: ',len(uniques4))\n",
        "print('Linha 6: ',len(uniques5))\n"
      ],
      "execution_count": null,
      "outputs": [
        {
          "output_type": "stream",
          "text": [
            "[[ 9  9  4  8  8  1  5  3  6  3]\n",
            " [ 3  3  2  1  9  5  1 10  7  3]\n",
            " [ 5  2  6  4  5  5  4  8  2  2]\n",
            " [ 8  8  1  3 10 10  4  3  6  9]\n",
            " [ 2  1  8  7  3  1  9  3  6  2]\n",
            " [ 9  2  6  5  3  9  4  6  1 10]]\n",
            "Linha 1:  7\n",
            "Linha 2:  7\n",
            "Linha 3:  5\n",
            "Linha 4:  7\n",
            "Linha 5:  7\n",
            "Linha 6:  8\n"
          ],
          "name": "stdout"
        }
      ]
    }
  ]
}